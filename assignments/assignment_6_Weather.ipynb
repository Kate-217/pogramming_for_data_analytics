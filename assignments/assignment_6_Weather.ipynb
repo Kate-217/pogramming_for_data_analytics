{
 "cells": [
  {
   "cell_type": "code",
   "execution_count": 7,
   "metadata": {},
   "outputs": [],
   "source": [
    "# Author Kate Lisovenko\n",
    "\n",
    "import pandas as pd\n",
    "import matplotlib.pyplot as plt \n",
    "import matplotlib.dates as mdates\n",
    "import numpy as np\n",
    "import seaborn as sns\n"
   ]
  },
  {
   "cell_type": "markdown",
   "metadata": {},
   "source": [
    "The parameter **na_values** = [\"NA\", \"N/A\", \"-\", \"\", \" \"] is used when loading data in pandas to specify certain values that should be interpreted as missing data (NaN).<br>\n",
    "This parameter creates a list of values that pandas will recognize as placeholders for missing or null entries.\n"
   ]
  },
  {
   "cell_type": "code",
   "execution_count": 8,
   "metadata": {},
   "outputs": [
    {
     "data": {
      "text/plain": [
       "0    10-apr-1996 14:00\n",
       "1    31-jul-1996 08:00\n",
       "2    31-jul-1996 09:00\n",
       "Name: date, dtype: object"
      ]
     },
     "execution_count": 8,
     "metadata": {},
     "output_type": "execute_result"
    }
   ],
   "source": [
    "# loading data\n",
    "na_values = [\"NA\", \"N/A\", \"-\", \"\", \" \"] # t\n",
    "data = pd.read_csv('././weather_6_data.csv',na_values=na_values )\n",
    "data['date'].head(3)"
   ]
  },
  {
   "cell_type": "code",
   "execution_count": 9,
   "metadata": {},
   "outputs": [],
   "source": [
    "#%d for the two-digit day\n",
    "#%b for the abbreviated month name\n",
    "#%Y for the four-digit year\n",
    "\n",
    "data['date'] = pd.to_datetime(data['date'],format='%d-%b-%Y %H:%M')\n",
    "#data['date'].head()"
   ]
  },
  {
   "cell_type": "code",
   "execution_count": 10,
   "metadata": {},
   "outputs": [
    {
     "name": "stdout",
     "output_type": "stream",
     "text": [
      "The first date of observation is 1996-04-10 14:00:00\n",
      "The last date of observation is 2024-10-01 00:00:00\n"
     ]
    }
   ],
   "source": [
    "print(f\"The first date of observation is {data['date'].min()}\")\n",
    "print(f\"The last date of observation is {data['date'].max()}\")"
   ]
  },
  {
   "cell_type": "code",
   "execution_count": 11,
   "metadata": {},
   "outputs": [
    {
     "name": "stdout",
     "output_type": "stream",
     "text": [
      "<class 'pandas.core.frame.DataFrame'>\n",
      "RangeIndex: 246930 entries, 0 to 246929\n",
      "Data columns (total 21 columns):\n",
      " #   Column  Non-Null Count   Dtype         \n",
      "---  ------  --------------   -----         \n",
      " 0   date    246930 non-null  datetime64[ns]\n",
      " 1   ind     246930 non-null  int64         \n",
      " 2   rain    246881 non-null  float64       \n",
      " 3   ind.1   246930 non-null  int64         \n",
      " 4   temp    246930 non-null  float64       \n",
      " 5   ind.2   246930 non-null  int64         \n",
      " 6   wetb    246930 non-null  float64       \n",
      " 7   dewpt   246930 non-null  float64       \n",
      " 8   vappr   246930 non-null  float64       \n",
      " 9   rhum    246930 non-null  int64         \n",
      " 10  msl     246912 non-null  float64       \n",
      " 11  ind.3   246930 non-null  int64         \n",
      " 12  wdsp    246880 non-null  float64       \n",
      " 13  ind.4   246930 non-null  int64         \n",
      " 14  wddir   246878 non-null  float64       \n",
      " 15  ww      192218 non-null  float64       \n",
      " 16  w       192217 non-null  float64       \n",
      " 17  sun     246930 non-null  float64       \n",
      " 18  vis     185123 non-null  float64       \n",
      " 19  clht    246912 non-null  float64       \n",
      " 20  clamt   246912 non-null  float64       \n",
      "dtypes: datetime64[ns](1), float64(14), int64(6)\n",
      "memory usage: 39.6 MB\n"
     ]
    }
   ],
   "source": [
    "data.info()"
   ]
  },
  {
   "cell_type": "code",
   "execution_count": 12,
   "metadata": {},
   "outputs": [
    {
     "data": {
      "text/plain": [
       "date      0.00\n",
       "ind       0.00\n",
       "rain      0.02\n",
       "ind.1     0.00\n",
       "temp      0.00\n",
       "ind.2     0.00\n",
       "wetb      0.00\n",
       "dewpt     0.00\n",
       "vappr     0.00\n",
       "rhum      0.00\n",
       "msl       0.01\n",
       "ind.3     0.00\n",
       "wdsp      0.02\n",
       "ind.4     0.00\n",
       "wddir     0.02\n",
       "ww       22.16\n",
       "w        22.16\n",
       "sun       0.00\n",
       "vis      25.03\n",
       "clht      0.01\n",
       "clamt     0.01\n",
       "dtype: float64"
      ]
     },
     "execution_count": 12,
     "metadata": {},
     "output_type": "execute_result"
    }
   ],
   "source": [
    "# searching for missing data\n",
    "missing_percentage = round(data.isnull().sum() / len(data) * 100, 2)\n",
    "missing_percentage"
   ]
  },
  {
   "cell_type": "markdown",
   "metadata": {},
   "source": [
    "##### There is a sagnificant lack of data here:\n",
    "ww:    -  Synop code for Present Weather -22.16%<br>\n",
    "w:     -  Synop code for Past Weather -22.16%<br>\n",
    "vis:   -  Visibility (m) - 25.03%<br>"
   ]
  },
  {
   "cell_type": "markdown",
   "metadata": {},
   "source": [
    "### The Temperature plot"
   ]
  },
  {
   "cell_type": "markdown",
   "metadata": {},
   "source": [
    "### The mean temperature each day"
   ]
  },
  {
   "cell_type": "markdown",
   "metadata": {},
   "source": [
    "### The mean temperature for each month"
   ]
  },
  {
   "cell_type": "markdown",
   "metadata": {},
   "source": [
    "### The Windspeed (there is data missing from this column)"
   ]
  },
  {
   "cell_type": "markdown",
   "metadata": {},
   "source": [
    "### The rolling windspeed (say over 24 hours)"
   ]
  },
  {
   "cell_type": "markdown",
   "metadata": {},
   "source": [
    "### The max windspeed for each day"
   ]
  },
  {
   "cell_type": "markdown",
   "metadata": {},
   "source": [
    "### The monthly mean of the daily max windspeeds (yer I am being nasty here)"
   ]
  },
  {
   "cell_type": "markdown",
   "metadata": {},
   "source": []
  }
 ],
 "metadata": {
  "kernelspec": {
   "display_name": "base",
   "language": "python",
   "name": "python3"
  },
  "language_info": {
   "codemirror_mode": {
    "name": "ipython",
    "version": 3
   },
   "file_extension": ".py",
   "mimetype": "text/x-python",
   "name": "python",
   "nbconvert_exporter": "python",
   "pygments_lexer": "ipython3",
   "version": "3.11.5"
  }
 },
 "nbformat": 4,
 "nbformat_minor": 2
}
