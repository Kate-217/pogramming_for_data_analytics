{
 "cells": [
  {
   "cell_type": "markdown",
   "metadata": {},
   "source": [
    "# Assignment 5.<br>\n",
    "# Risk.\n",
    "\n",
    "### Create a Program:\n",
    "\n",
    "The program should simulate 1000 individual battle rounds in the board game Risk, specifically with 3 attackers vs. 2 defenders.\n",
    "\n",
    "#### Battle round rules: \n",
    "Each battle round involves one roll of dice for both attacker and defender. \n",
    "**The highest dice roll from each side is compared:**\n",
    "If the attacker’s roll is equal to or lower than the defender’s, *the attacker loses one troop*.\n",
    "If the attacker’s roll is higher, *the defender loses one troop*.\n",
    "**Compare Second-Highest Dice Rolls**: The same rule. \n",
    "\n",
    "#### Plot Results: \n",
    "The program should produce a plot summarizing the results of the battle rounds. The specifics of what to plot are left to your discretion.\n",
    "\n",
    "Extra Challenge: Create a more complex simulation that runs until one side's army is eliminated. This simulation should handle armies of any size and plot the outcome.\n",
    "\n",
    "This program should model battle outcomes, track results, and create visualizations of the simulated rounds."
   ]
  },
  {
   "cell_type": "code",
   "execution_count": 1,
   "metadata": {},
   "outputs": [],
   "source": [
    "# Author Kate Lisovenko\n",
    "\n",
    "import numpy as np\n",
    "import matplotlib.pyplot as plt\n",
    "import pandas as pd "
   ]
  },
  {
   "cell_type": "markdown",
   "metadata": {},
   "source": [
    "Ref.:\n",
    "[Random Numbers in NumPy](https://www.w3schools.com/python/numpy/numpy_random.asp)<br>\n",
    "[numpy.random.seed](https://numpy.org/doc/2.0/reference/random/generated/numpy.random.seed.html)"
   ]
  },
  {
   "cell_type": "markdown",
   "metadata": {},
   "source": [
    "\n",
    " \n",
    "I need to create two generators, one for attacker and another for defender. \n",
    "**np.random.randint** will generate 2D arrays.<br>\n",
    "1 and 7 is min and max; size is an array size.<br>\n"
   ]
  },
  {
   "cell_type": "code",
   "execution_count": 2,
   "metadata": {},
   "outputs": [],
   "source": [
    "n = 1000 #quantity of raunds\n",
    "m = 2 #quantity of dices\n",
    "seed = 2"
   ]
  },
  {
   "cell_type": "code",
   "execution_count": 3,
   "metadata": {},
   "outputs": [
    {
     "name": "stdout",
     "output_type": "stream",
     "text": [
      "Attacker’s turns: first five rows:\n",
      "[[1 6 1]\n",
      " [4 3 4]\n",
      " [1 3 2]\n",
      " [4 6 3]\n",
      " [5 5 5]]\n",
      "Defender’s turns: first five rows:\n",
      "[[1 6]\n",
      " [1 4]\n",
      " [3 4]\n",
      " [1 3]\n",
      " [2 4]]\n"
     ]
    }
   ],
   "source": [
    "#Generating dice rolls\n",
    "\n",
    "#attacker's result:\n",
    "np.random.seed(seed)\n",
    "dice_roll_attacker= np.random.randint(1,7, size=(n,m+1))\n",
    "print(f'Attacker’s turns: first five rows:\\n{dice_roll_attacker[0:5,:]}')\n",
    "\n",
    "#defender's results \n",
    "np.random.seed(seed)\n",
    "dice_roll_defender= np.random.randint(1,7, size=(n,m))\n",
    "print(f'Defender’s turns: first five rows:\\n{dice_roll_defender[0:5,:]}')\n"
   ]
  },
  {
   "cell_type": "markdown",
   "metadata": {},
   "source": [
    "Ref.:[NumPy Sorting Arrays](https://www.w3schools.com/python/numpy/numpy_array_sort.asp)"
   ]
  },
  {
   "cell_type": "markdown",
   "metadata": {},
   "source": [
    "Attacker has 3 dice and I need to take for comparison 2 biggest numbers.<br>\n",
    "I will sort the array.<br>\n",
    "**axis=1** for sorting by raws.<br>\n",
    "**[:, ::-1]** - to invert the order.<br>\n",
    "expression **::-1** refers to the elements within each row.<br>\n",
    "This means that we want to select all elements, but in reverse order."
   ]
  },
  {
   "cell_type": "code",
   "execution_count": 4,
   "metadata": {},
   "outputs": [
    {
     "name": "stdout",
     "output_type": "stream",
     "text": [
      "Sorted attacker's turns. First five rows:\n",
      "[[6 1 1]\n",
      " [4 4 3]\n",
      " [3 2 1]\n",
      " [6 4 3]\n",
      " [5 5 5]]\n"
     ]
    }
   ],
   "source": [
    "dice_roll_attacker = np.sort(dice_roll_attacker, axis=1 )[:, ::-1]\n",
    "print(f'Sorted attacker\\'s turns. First five rows:\\n{dice_roll_attacker[0:5,:]}')"
   ]
  },
  {
   "cell_type": "code",
   "execution_count": 5,
   "metadata": {},
   "outputs": [
    {
     "name": "stdout",
     "output_type": "stream",
     "text": [
      "Sorted and filtered attacker's turns. first five rows:\n",
      "[[6 1]\n",
      " [4 4]\n",
      " [3 2]\n",
      " [6 4]\n",
      " [5 5]]\n"
     ]
    }
   ],
   "source": [
    "#Now, when it sorted, I can take the rows with bigger numbers.\n",
    "two_largest_attack= dice_roll_attacker[:,0:2]\n",
    "print(f'Sorted and filtered attacker\\'s turns. first five rows:\\n{two_largest_attack[0:5,:]}')"
   ]
  },
  {
   "cell_type": "code",
   "execution_count": 6,
   "metadata": {},
   "outputs": [
    {
     "name": "stdout",
     "output_type": "stream",
     "text": [
      "Sorted defender's turns. First five rows:\n",
      "[[6 1]\n",
      " [4 1]\n",
      " [4 3]\n",
      " [3 1]\n",
      " [4 2]]\n"
     ]
    }
   ],
   "source": [
    "#Sorting defender's turns.\n",
    "dice_roll_defender = np.sort(dice_roll_defender, axis=1 )[:,::-1]\n",
    "print(f'Sorted defender\\'s turns. First five rows:\\n{dice_roll_defender[0:5,:]}')"
   ]
  },
  {
   "cell_type": "markdown",
   "metadata": {},
   "source": [
    "Ref.: [Appending to an empty array in NumPy](https://stackoverflow.com/questions/568962/how-do-i-create-an-empty-array-and-then-append-to-it-in-numpy)"
   ]
  },
  {
   "cell_type": "code",
   "execution_count": 7,
   "metadata": {},
   "outputs": [],
   "source": [
    "#Now I will compare 2 arrays and create an array with the results.\n",
    "\n",
    "#Creating an array with zeros.\n",
    "attaсkers_wins = np.zeros(shape=(n,m),dtype=int)\n",
    "#attakers_wins\n",
    "\n",
    "defender_wins = np.zeros(shape=(n,m),dtype=int)\n",
    "#defender_wins"
   ]
  },
  {
   "cell_type": "code",
   "execution_count": 8,
   "metadata": {},
   "outputs": [
    {
     "name": "stdout",
     "output_type": "stream",
     "text": [
      "[[1 1]\n",
      " [1 0]\n",
      " [1 1]\n",
      " [0 0]\n",
      " [0 0]]\n",
      "___________\n",
      "[[0 0]\n",
      " [0 1]\n",
      " [0 0]\n",
      " [1 1]\n",
      " [1 1]]\n"
     ]
    }
   ],
   "source": [
    "# n = number of rounds\n",
    "# i - rows\n",
    "# j - columns\n",
    "\n",
    "for i in range (n): # in each row\n",
    "    for j in range(2): # the loop will check each dice value 'j'\n",
    "        if dice_roll_defender[i][j] >= dice_roll_attacker[i][j]:# if it is true\n",
    "            defender_wins[i][j]=1 # zero in the array will be replayced with one\n",
    "        else:\n",
    "            \n",
    "             attaсkers_wins[i][j]=1\n",
    "print(defender_wins[0:5,:])\n",
    "print(\"___________\")\n",
    "print(attaсkers_wins[0:5,:])"
   ]
  },
  {
   "cell_type": "code",
   "execution_count": 9,
   "metadata": {},
   "outputs": [
    {
     "name": "stdout",
     "output_type": "stream",
     "text": [
      "The summ of Defender's wins [2 1 2 0 0 1 2 2 0 0]\n",
      "The summ of Attacker's wins [0 1 0 2 2 1 0 0 2 2]\n"
     ]
    }
   ],
   "source": [
    "#summarising results:\n",
    " \n",
    "#axis=1 for summarising rows\n",
    "sum_defender_wins = np.sum(defender_wins, axis=1)\n",
    "print(f\"The summ of Defender's wins {sum_defender_wins[:10]}\")\n",
    "\n",
    "sum_attaсkers_wins = np.sum(attaсkers_wins,axis=1)\n",
    "print(f\"The summ of Attacker's wins {sum_attaсkers_wins[:10]}\")"
   ]
  },
  {
   "cell_type": "markdown",
   "metadata": {},
   "source": [
    "Now I got two 1D arrays with players points for each of 'n' rounds. \n",
    "I will join them to get a new array. "
   ]
  },
  {
   "cell_type": "code",
   "execution_count": 10,
   "metadata": {},
   "outputs": [
    {
     "name": "stdout",
     "output_type": "stream",
     "text": [
      "[[2 0]\n",
      " [1 1]\n",
      " [2 0]\n",
      " ...\n",
      " [2 0]\n",
      " [1 1]\n",
      " [1 1]]\n"
     ]
    }
   ],
   "source": [
    "#A new array with player's points\n",
    "results_defender_attaсker = np.column_stack((sum_defender_wins,sum_attaсkers_wins))\n",
    "print(results_defender_attaсker)"
   ]
  },
  {
   "cell_type": "code",
   "execution_count": 11,
   "metadata": {},
   "outputs": [
    {
     "data": {
      "text/html": [
       "<div>\n",
       "<style scoped>\n",
       "    .dataframe tbody tr th:only-of-type {\n",
       "        vertical-align: middle;\n",
       "    }\n",
       "\n",
       "    .dataframe tbody tr th {\n",
       "        vertical-align: top;\n",
       "    }\n",
       "\n",
       "    .dataframe thead th {\n",
       "        text-align: right;\n",
       "    }\n",
       "</style>\n",
       "<table border=\"1\" class=\"dataframe\">\n",
       "  <thead>\n",
       "    <tr style=\"text-align: right;\">\n",
       "      <th></th>\n",
       "      <th>defender</th>\n",
       "      <th>attacker</th>\n",
       "    </tr>\n",
       "    <tr>\n",
       "      <th>round</th>\n",
       "      <th></th>\n",
       "      <th></th>\n",
       "    </tr>\n",
       "  </thead>\n",
       "  <tbody>\n",
       "    <tr>\n",
       "      <th>1</th>\n",
       "      <td>2</td>\n",
       "      <td>0</td>\n",
       "    </tr>\n",
       "    <tr>\n",
       "      <th>2</th>\n",
       "      <td>1</td>\n",
       "      <td>1</td>\n",
       "    </tr>\n",
       "    <tr>\n",
       "      <th>3</th>\n",
       "      <td>2</td>\n",
       "      <td>0</td>\n",
       "    </tr>\n",
       "  </tbody>\n",
       "</table>\n",
       "</div>"
      ],
      "text/plain": [
       "       defender  attacker\n",
       "round                    \n",
       "1             2         0\n",
       "2             1         1\n",
       "3             2         0"
      ]
     },
     "execution_count": 11,
     "metadata": {},
     "output_type": "execute_result"
    }
   ],
   "source": [
    "#I turn the array into data frame pandas.\n",
    "\n",
    "df = pd.DataFrame(results_defender_attaсker, columns=['defender','attacker'])\n",
    "df['round'] = df.index+1\n",
    "\n",
    "# set rounds as index\n",
    "df.set_index('round', inplace=True)\n",
    "df.head(3)"
   ]
  },
  {
   "cell_type": "markdown",
   "metadata": {},
   "source": [
    "To plot the results, I need to get some additional data. \n",
    "I assume that players change their roles each turn. If it is so, I can mark it in my df.\n",
    "\n",
    "Ref.:[Constructing an array by repeating](https://numpy.org/doc/stable/reference/generated/numpy.tile.html)\n"
   ]
  },
  {
   "cell_type": "markdown",
   "metadata": {},
   "source": [
    "**np.tile** repeat the array ['player_1', 'player_2'] **len(df) // 2 + 1** times<br> \n",
    "**len(df)/ 2** because we have 2 players<br> \n",
    "**+1** will create additional pair if we have odd numbers of turns(len(df))<br> \n",
    "**[:len(df)]** will cut off an excess row"
   ]
  },
  {
   "cell_type": "markdown",
   "metadata": {},
   "source": [
    "#Ref.: [pandas.DataFrame.apply](https://pandas.pydata.org/docs/reference/api/pandas.DataFrame.apply.html)"
   ]
  },
  {
   "cell_type": "code",
   "execution_count": 12,
   "metadata": {},
   "outputs": [
    {
     "data": {
      "text/html": [
       "<div>\n",
       "<style scoped>\n",
       "    .dataframe tbody tr th:only-of-type {\n",
       "        vertical-align: middle;\n",
       "    }\n",
       "\n",
       "    .dataframe tbody tr th {\n",
       "        vertical-align: top;\n",
       "    }\n",
       "\n",
       "    .dataframe thead th {\n",
       "        text-align: right;\n",
       "    }\n",
       "</style>\n",
       "<table border=\"1\" class=\"dataframe\">\n",
       "  <thead>\n",
       "    <tr style=\"text-align: right;\">\n",
       "      <th></th>\n",
       "      <th>defender</th>\n",
       "      <th>attacker</th>\n",
       "      <th>who_is_attacker</th>\n",
       "      <th>who_is_defender</th>\n",
       "      <th>winner</th>\n",
       "    </tr>\n",
       "    <tr>\n",
       "      <th>round</th>\n",
       "      <th></th>\n",
       "      <th></th>\n",
       "      <th></th>\n",
       "      <th></th>\n",
       "      <th></th>\n",
       "    </tr>\n",
       "  </thead>\n",
       "  <tbody>\n",
       "    <tr>\n",
       "      <th>1</th>\n",
       "      <td>2</td>\n",
       "      <td>0</td>\n",
       "      <td>player_1</td>\n",
       "      <td>player_2</td>\n",
       "      <td>player_2</td>\n",
       "    </tr>\n",
       "    <tr>\n",
       "      <th>2</th>\n",
       "      <td>1</td>\n",
       "      <td>1</td>\n",
       "      <td>player_2</td>\n",
       "      <td>player_1</td>\n",
       "      <td>draw</td>\n",
       "    </tr>\n",
       "    <tr>\n",
       "      <th>3</th>\n",
       "      <td>2</td>\n",
       "      <td>0</td>\n",
       "      <td>player_1</td>\n",
       "      <td>player_2</td>\n",
       "      <td>player_2</td>\n",
       "    </tr>\n",
       "    <tr>\n",
       "      <th>4</th>\n",
       "      <td>0</td>\n",
       "      <td>2</td>\n",
       "      <td>player_2</td>\n",
       "      <td>player_1</td>\n",
       "      <td>player_2</td>\n",
       "    </tr>\n",
       "    <tr>\n",
       "      <th>5</th>\n",
       "      <td>0</td>\n",
       "      <td>2</td>\n",
       "      <td>player_1</td>\n",
       "      <td>player_2</td>\n",
       "      <td>player_1</td>\n",
       "    </tr>\n",
       "  </tbody>\n",
       "</table>\n",
       "</div>"
      ],
      "text/plain": [
       "       defender  attacker who_is_attacker who_is_defender    winner\n",
       "round                                                              \n",
       "1             2         0        player_1        player_2  player_2\n",
       "2             1         1        player_2        player_1      draw\n",
       "3             2         0        player_1        player_2  player_2\n",
       "4             0         2        player_2        player_1  player_2\n",
       "5             0         2        player_1        player_2  player_1"
      ]
     },
     "execution_count": 12,
     "metadata": {},
     "output_type": "execute_result"
    }
   ],
   "source": [
    "# Adding 2 columns to mark player's roles in the game\n",
    "df['who_is_attacker'] = np.tile(['player_1', 'player_2'], len(df) // 2 + 1)[:len(df)]\n",
    "df['who_is_defender'] = np.tile(['player_2', 'player_1'], len(df) // 2 + 1)[:len(df)]\n",
    "\n",
    "# creating a column with the round results\n",
    "def who_is_winner(row): \n",
    "    if row['defender'] > row['attacker']:\n",
    "        return row['who_is_defender']\n",
    "    elif row['defender'] < row['attacker']:\n",
    "        return row['who_is_attacker']\n",
    "    else:\n",
    "        return 'draw'\n",
    "df['winner'] = df.apply(who_is_winner, axis=1)    \n",
    "\n",
    "#cheking the df    \n",
    "df.head()"
   ]
  },
  {
   "cell_type": "code",
   "execution_count": 13,
   "metadata": {},
   "outputs": [
    {
     "name": "stdout",
     "output_type": "stream",
     "text": [
      "winner\n",
      "player_2    346\n",
      "draw        342\n",
      "player_1    312\n",
      "Name: count, dtype: int64\n"
     ]
    },
    {
     "data": {
      "image/png": "[encoded data removed]",
      "text/plain": [
       "<Figure size 600x600 with 1 Axes>"
      ]
     },
     "metadata": {},
     "output_type": "display_data"
    }
   ],
   "source": [
    "# Pie chart \n",
    "#calculating the results\n",
    "winner_counts = df['winner'].value_counts()\n",
    "print(winner_counts)\n",
    "\n",
    "#using autopct='%1.1f%%' for getting the results in % \n",
    "plt.figure(figsize=(6, 6))\n",
    "plt.pie(winner_counts, labels=winner_counts.index, autopct='%1.1f%%', colors=['orange', 'green', 'red'])\n",
    "plt.title(\"Distribution of wins and draws\")\n",
    "plt.show()\n"
   ]
  }
 ],
 "metadata": {
  "kernelspec": {
   "display_name": "base",
   "language": "python",
   "name": "python3"
  },
  "language_info": {
   "codemirror_mode": {
    "name": "ipython",
    "version": 3
   },
   "file_extension": ".py",
   "mimetype": "text/x-python",
   "name": "python",
   "nbconvert_exporter": "python",
   "pygments_lexer": "ipython3",
   "version": "3.11.5"
  }
 },
 "nbformat": 4,
 "nbformat_minor": 2
}
