{
 "cells": [
  {
   "cell_type": "markdown",
   "metadata": {},
   "source": [
    "# Daily Gas Demand Ireland\n",
    "\n",
    "## Dataset description\n",
    "\n",
    "The dataset reflects gas consumption in Ireland, categorized into different sectors:\n",
    "\n",
    "* **Non-Daily Metered (NDM)**: Represents gas consumption by small to medium enterprises and residential properties, indicating a clear seasonal consumption pattern.\n",
    "\n",
    "* **Daily Metered (DM)** and Large Daily Metered (LDM): Reflects gas consumption by large industrial users, with some showing steady usage and others displaying seasonal variations.\n",
    "\n",
    "* **Power Generation**: Captures gas consumption by thermal power plants, with daily fluctuations based on electricity demand and renewable energy production.\n",
    "The dataset provides insights into how gas is consumed across these sectors on a daily basis, with figures reported in GWh."
   ]
  },
  {
   "cell_type": "code",
   "execution_count": 3,
   "metadata": {},
   "outputs": [],
   "source": [
    "#import libraries\n",
    "\n",
    "import pandas as pd\n",
    "import matplotlib.pyplot as plt \n",
    "import matplotlib.dates as mdates\n",
    "import numpy as np\n",
    "import seaborn as sns"
   ]
  },
  {
   "cell_type": "code",
   "execution_count": 4,
   "metadata": {},
   "outputs": [
    {
     "name": "stdout",
     "output_type": "stream",
     "text": [
      "<class 'pandas.core.frame.DataFrame'>\n",
      "RangeIndex: 2465 entries, 0 to 2464\n",
      "Data columns (total 6 columns):\n",
      " #   Column                                   Non-Null Count  Dtype  \n",
      "---  ------                                   --------------  -----  \n",
      " 0   Date                                     2465 non-null   object \n",
      " 1   Daily Metered                            2465 non-null   float64\n",
      " 2   Non Daily Metered (NDM)                  2465 non-null   float64\n",
      " 3   Large Daily Metered (LDM) non Power Gen  2465 non-null   float64\n",
      " 4   Power Generation                         2465 non-null   float64\n",
      " 5   Total ROI demand                         2465 non-null   float64\n",
      "dtypes: float64(5), object(1)\n",
      "memory usage: 115.7+ KB\n"
     ]
    }
   ],
   "source": [
    "data = pd.read_csv(\"https://www.gasnetworks.ie/corporate/open-data/2024-Q3-Daily-Gas-Demand.csv\")\n",
    "data.info()"
   ]
  },
  {
   "cell_type": "code",
   "execution_count": 5,
   "metadata": {},
   "outputs": [
    {
     "data": {
      "text/html": [
       "<div>\n",
       "<style scoped>\n",
       "    .dataframe tbody tr th:only-of-type {\n",
       "        vertical-align: middle;\n",
       "    }\n",
       "\n",
       "    .dataframe tbody tr th {\n",
       "        vertical-align: top;\n",
       "    }\n",
       "\n",
       "    .dataframe thead th {\n",
       "        text-align: right;\n",
       "    }\n",
       "</style>\n",
       "<table border=\"1\" class=\"dataframe\">\n",
       "  <thead>\n",
       "    <tr style=\"text-align: right;\">\n",
       "      <th></th>\n",
       "      <th>Date</th>\n",
       "      <th>Daily Metered</th>\n",
       "      <th>Non Daily Metered (NDM)</th>\n",
       "      <th>Large Daily Metered (LDM) non Power Gen</th>\n",
       "      <th>Power Generation</th>\n",
       "      <th>Total ROI demand</th>\n",
       "    </tr>\n",
       "  </thead>\n",
       "  <tbody>\n",
       "    <tr>\n",
       "      <th>0</th>\n",
       "      <td>01/01/2018</td>\n",
       "      <td>7.251362</td>\n",
       "      <td>55.409405</td>\n",
       "      <td>9.494423</td>\n",
       "      <td>57.062501</td>\n",
       "      <td>129.217691</td>\n",
       "    </tr>\n",
       "    <tr>\n",
       "      <th>1</th>\n",
       "      <td>02/01/2018</td>\n",
       "      <td>9.541429</td>\n",
       "      <td>57.607694</td>\n",
       "      <td>10.575758</td>\n",
       "      <td>54.855833</td>\n",
       "      <td>132.580714</td>\n",
       "    </tr>\n",
       "    <tr>\n",
       "      <th>2</th>\n",
       "      <td>03/01/2018</td>\n",
       "      <td>10.481540</td>\n",
       "      <td>60.505595</td>\n",
       "      <td>12.308507</td>\n",
       "      <td>69.217500</td>\n",
       "      <td>152.513142</td>\n",
       "    </tr>\n",
       "    <tr>\n",
       "      <th>3</th>\n",
       "      <td>04/01/2018</td>\n",
       "      <td>10.576218</td>\n",
       "      <td>59.123724</td>\n",
       "      <td>13.310019</td>\n",
       "      <td>96.651666</td>\n",
       "      <td>179.661627</td>\n",
       "    </tr>\n",
       "    <tr>\n",
       "      <th>4</th>\n",
       "      <td>05/01/2018</td>\n",
       "      <td>10.683822</td>\n",
       "      <td>62.322325</td>\n",
       "      <td>13.327011</td>\n",
       "      <td>100.158333</td>\n",
       "      <td>186.491491</td>\n",
       "    </tr>\n",
       "  </tbody>\n",
       "</table>\n",
       "</div>"
      ],
      "text/plain": [
       "         Date  Daily Metered  Non Daily Metered (NDM)  \\\n",
       "0  01/01/2018       7.251362                55.409405   \n",
       "1  02/01/2018       9.541429                57.607694   \n",
       "2  03/01/2018      10.481540                60.505595   \n",
       "3  04/01/2018      10.576218                59.123724   \n",
       "4  05/01/2018      10.683822                62.322325   \n",
       "\n",
       "   Large Daily Metered (LDM) non Power Gen  Power Generation  Total ROI demand  \n",
       "0                                 9.494423         57.062501        129.217691  \n",
       "1                                10.575758         54.855833        132.580714  \n",
       "2                                12.308507         69.217500        152.513142  \n",
       "3                                13.310019         96.651666        179.661627  \n",
       "4                                13.327011        100.158333        186.491491  "
      ]
     },
     "execution_count": 5,
     "metadata": {},
     "output_type": "execute_result"
    }
   ],
   "source": [
    "data.head()"
   ]
  },
  {
   "cell_type": "code",
   "execution_count": null,
   "metadata": {},
   "outputs": [],
   "source": []
  }
 ],
 "metadata": {
  "kernelspec": {
   "display_name": "base",
   "language": "python",
   "name": "python3"
  },
  "language_info": {
   "codemirror_mode": {
    "name": "ipython",
    "version": 3
   },
   "file_extension": ".py",
   "mimetype": "text/x-python",
   "name": "python",
   "nbconvert_exporter": "python",
   "pygments_lexer": "ipython3",
   "version": "3.11.5"
  }
 },
 "nbformat": 4,
 "nbformat_minor": 2
}
