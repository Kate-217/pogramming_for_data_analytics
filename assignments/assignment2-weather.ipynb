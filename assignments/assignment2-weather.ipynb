{
 "cells": [
  {
   "cell_type": "code",
   "execution_count": 14,
   "metadata": {},
   "outputs": [],
   "source": [
    "# Author Kate Lisovenko\n",
    "\n",
    "import pandas as pd\n",
    "import matplotlib.pyplot as plt \n",
    "\n",
    "data = pd.read_csv(\"https://raw.githubusercontent.com/andrewbeattycourseware/PFDA-courseware/refs/heads/main/assignment/weatherreadings1.csv\")"
   ]
  },
  {
   "cell_type": "code",
   "execution_count": 12,
   "metadata": {},
   "outputs": [
    {
     "name": "stdout",
     "output_type": "stream",
     "text": [
      "['siteId', 'reportStartDateTime', 'reportEndDateTime', 'collectionName', 'isPublic', 'isLatestVersion', 'observationType', 'softwareType', 'windDirection', 'relativeHumidity', 'windSpeed_MilePerHour', 'windSpeed_MetrePerSecond', 'dryBulbTemperature_Fahrenheit', 'dryBulbTemperature_Celsius', 'wetBulbTemperature_Fahrenheit', 'wetBulbTemperature_Celsius', 'rainfallAmount_Inch', 'rainfallAmount_Millimetre', 'rainfallRate_InchPerHour', 'rainfallRate_MillimetrePerHour', 'airPressure_InchOfMercury', 'airPressure_Hectopascal', 'dewPointTemperature_Fahrenheit', 'dewPointTemperature_Celsius', 'isOfficial', 'isDcnn', 'longitude', 'latitude', 'height', 'id', 'localReportEndDateTime', 'externalSiteId', 'createdDateTime', 'version', 'externalId']\n"
     ]
    }
   ],
   "source": [
    "# getting the list of the column's names\n",
    "columns_list = data.columns.tolist()\n",
    "print(columns_list)"
   ]
  },
  {
   "cell_type": "code",
   "execution_count": 23,
   "metadata": {},
   "outputs": [
    {
     "name": "stdout",
     "output_type": "stream",
     "text": [
      "0    15.944444\n",
      "1    15.777778\n",
      "2    15.111111\n",
      "3    14.277778\n",
      "4    13.666667\n",
      "Name: dryBulbTemperature_Celsius, dtype: float64\n",
      "0    2024-10-02T16:15:00+00:00\n",
      "1    2024-10-02T16:45:00+00:00\n",
      "2    2024-10-02T17:00:00+00:00\n",
      "3    2024-10-02T17:15:00+00:00\n",
      "4    2024-10-02T17:30:00+00:00\n",
      "Name: reportEndDateTime, dtype: object\n"
     ]
    }
   ],
   "source": [
    "# I am going to creadte the plot of the temperature over time ( \"dryBulbTemperature_Celsius\" )\n",
    "\n",
    "# checking out the data in the columns I need:\n",
    "\n",
    "print(data['dryBulbTemperature_Celsius'].head(5))\n",
    "\n",
    "print(data['reportEndDateTime'].head(5))\n"
   ]
  },
  {
   "cell_type": "markdown",
   "metadata": {},
   "source": [
    "The 'dryBulbTemperature_Celsius' contains the float type data. The data in 'reportEndDateTime' is in object format. I need to convert it to the datetime object.\n"
   ]
  },
  {
   "cell_type": "code",
   "execution_count": 24,
   "metadata": {},
   "outputs": [
    {
     "name": "stdout",
     "output_type": "stream",
     "text": [
      "0   2024-10-02 16:15:00+00:00\n",
      "1   2024-10-02 16:45:00+00:00\n",
      "2   2024-10-02 17:00:00+00:00\n",
      "3   2024-10-02 17:15:00+00:00\n",
      "4   2024-10-02 17:30:00+00:00\n",
      "Name: reportEndDateTime, dtype: datetime64[ns, UTC]\n"
     ]
    }
   ],
   "source": [
    "data['reportEndDateTime'] = pd.to_datetime(data['reportEndDateTime'])\n",
    "print(data['reportEndDateTime'].head(5))"
   ]
  },
  {
   "cell_type": "code",
   "execution_count": null,
   "metadata": {},
   "outputs": [],
   "source": []
  },
  {
   "cell_type": "markdown",
   "metadata": {},
   "source": []
  }
 ],
 "metadata": {
  "kernelspec": {
   "display_name": "Python 3",
   "language": "python",
   "name": "python3"
  },
  "language_info": {
   "codemirror_mode": {
    "name": "ipython",
    "version": 3
   },
   "file_extension": ".py",
   "mimetype": "text/x-python",
   "name": "python",
   "nbconvert_exporter": "python",
   "pygments_lexer": "ipython3",
   "version": "3.11.5"
  }
 },
 "nbformat": 4,
 "nbformat_minor": 2
}
