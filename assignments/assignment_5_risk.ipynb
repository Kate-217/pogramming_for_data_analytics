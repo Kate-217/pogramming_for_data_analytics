{
 "cells": [
  {
   "cell_type": "markdown",
   "metadata": {},
   "source": [
    "## Create a Program:\n",
    "\n",
    "The program should simulate 1000 individual battle rounds in the board game Risk, specifically with 3 attackers vs. 2 defenders.\n",
    "\n",
    "### Battle round rules: \n",
    "Each battle round involves one roll of dice for both attacker and defender. \n",
    "**The highest dice roll from each side is compared:**\n",
    "If the attacker’s roll is equal to or lower than the defender’s, *the attacker loses one troop*.\n",
    "If the attacker’s roll is higher, *the defender loses one troop*.\n",
    "**Compare Second-Highest Dice Rolls**: The same rule. \n",
    "\n",
    "### Plot Results: \n",
    "The program should produce a plot summarizing the results of the battle rounds. The specifics of what to plot are left to your discretion.\n",
    "\n",
    "Extra Challenge: Create a more complex simulation that runs until one side's army is eliminated. This simulation should handle armies of any size and plot the outcome.\n",
    "\n",
    "This program should model battle outcomes, track results, and create visualizations of the simulated rounds."
   ]
  },
  {
   "cell_type": "markdown",
   "metadata": {},
   "source": []
  },
  {
   "cell_type": "code",
   "execution_count": 149,
   "metadata": {},
   "outputs": [],
   "source": [
    "import numpy as np\n",
    "import matplotlib.pyplot as plt\n",
    "import pandas as pd "
   ]
  },
  {
   "cell_type": "code",
   "execution_count": 150,
   "metadata": {},
   "outputs": [
    {
     "name": "stdout",
     "output_type": "stream",
     "text": [
      "Attacker’s turns: first five rows:\n",
      "[[3 6 2]\n",
      " [1 1 3]\n",
      " [2 3 5]\n",
      " [6 2 1]\n",
      " [5 3 5]]\n",
      "Defender’s turns: first five rows:\n",
      "[[3 6]\n",
      " [2 1]\n",
      " [1 3]\n",
      " [2 3]\n",
      " [5 6]]\n"
     ]
    }
   ],
   "source": [
    "#Ref.:https://www.w3schools.com/python/numpy/numpy_random.asp\n",
    "# https://numpy.org/doc/2.0/reference/random/generated/numpy.random.seed.html\n",
    " \n",
    "\n",
    "# I need to create two generators, one for attacker and another for defender. \n",
    "#np.random.randint can generate 2D arrays\n",
    "#1 and 7 is min and max; size is an array size.\n",
    "\n",
    "#attacker's results\n",
    "\n",
    "n = 1000 # quantity of raunds\n",
    "m = 2 #quantity of dices\n",
    "np.random.seed(4)\n",
    "dice_roll_attacker= np.random.randint(1,7, size=(n,m+1))\n",
    "print(f'Attacker’s turns: first five rows:\\n{dice_roll_attacker[0:5,:]}')\n",
    "\n",
    "#defender's results \n",
    "np.random.seed(4)\n",
    "dice_roll_defender= np.random.randint(1,7, size=(n,m))\n",
    "print(f'Defender’s turns: first five rows:\\n{dice_roll_defender[0:5,:]}')\n"
   ]
  },
  {
   "cell_type": "code",
   "execution_count": 151,
   "metadata": {},
   "outputs": [
    {
     "name": "stdout",
     "output_type": "stream",
     "text": [
      "Sorted attacker's turns. First five rows:\n",
      "[[6 3 2]\n",
      " [3 1 1]\n",
      " [5 3 2]\n",
      " [6 2 1]\n",
      " [5 5 3]]\n"
     ]
    }
   ],
   "source": [
    "# Ref.:https://www.w3schools.com/python/numpy/numpy_array_sort.asp\n",
    "\n",
    "# Attacker has 3 dice and I need to take for comparison 2 biggest numbers.\n",
    "# I will sort the array.\n",
    "# axis=1 for sorting by raws\n",
    "# [:, ::-1] - to invert the order\n",
    "# expression ::-1 refers to the elements within each row.\n",
    "# This means that we want to select all elements, but in reverse order.\n",
    "\n",
    "dice_roll_attacker = np.sort(dice_roll_attacker, axis=1 )[:, ::-1]\n",
    "print(f'Sorted attacker\\'s turns. First five rows:\\n{dice_roll_attacker[0:5,:]}')"
   ]
  },
  {
   "cell_type": "code",
   "execution_count": 152,
   "metadata": {},
   "outputs": [
    {
     "name": "stdout",
     "output_type": "stream",
     "text": [
      "Sorted and filtered attacker's turns. first five rows:\n",
      "[[6 3]\n",
      " [3 1]\n",
      " [5 3]\n",
      " [6 2]\n",
      " [5 5]]\n"
     ]
    }
   ],
   "source": [
    "#Now, when it sorted, I can take the rows with bigger numbers.\n",
    "two_largest_attack= dice_roll_attacker[:,0:2]\n",
    "print(f'Sorted and filtered attacker\\'s turns. first five rows:\\n{two_largest_attack[0:5,:]}')"
   ]
  },
  {
   "cell_type": "code",
   "execution_count": 153,
   "metadata": {},
   "outputs": [
    {
     "name": "stdout",
     "output_type": "stream",
     "text": [
      "Sorted defender's turns. First five rows:\n",
      "[[6 3]\n",
      " [2 1]\n",
      " [3 1]\n",
      " [3 2]\n",
      " [6 5]]\n"
     ]
    }
   ],
   "source": [
    "#Sorting defender's turns.\n",
    "dice_roll_defender = np.sort(dice_roll_defender, axis=1 )[:,::-1]\n",
    "print(f'Sorted defender\\'s turns. First five rows:\\n{dice_roll_defender[0:5,:]}')"
   ]
  },
  {
   "cell_type": "code",
   "execution_count": 154,
   "metadata": {},
   "outputs": [],
   "source": [
    "#Now I will compare 2 arrays and create an array with the results.\n",
    "#Creating an array with zeros.\n",
    "#Ref.: https://stackoverflow.com/questions/568962/how-do-i-create-an-empty-array-and-then-append-to-it-in-numpy\n",
    "\n",
    "attakers_wins = np.zeros(shape=(n,m),dtype=int)\n",
    "#attakers_wins\n",
    "\n",
    "defender_wins = np.zeros(shape=(n,m),dtype=int)\n",
    "#defender_wins"
   ]
  },
  {
   "cell_type": "code",
   "execution_count": 155,
   "metadata": {},
   "outputs": [
    {
     "name": "stdout",
     "output_type": "stream",
     "text": [
      "[[1 1]\n",
      " [0 1]\n",
      " [0 0]\n",
      " [0 1]\n",
      " [1 1]]\n",
      "___________\n",
      "[[0 0]\n",
      " [1 0]\n",
      " [1 1]\n",
      " [1 0]\n",
      " [0 0]]\n"
     ]
    }
   ],
   "source": [
    "# n = quantity of raunds \n",
    "# i - rows\n",
    "# j - columns\n",
    "for i in range (n):\n",
    "    for j in range(2):\n",
    "        if dice_roll_defender[i][j] >= dice_roll_attacker[i][j]:\n",
    "            defender_wins[i][j]=1\n",
    "        else:\n",
    "             attakers_wins[i][j]=1\n",
    "print(defender_wins[0:5,:])\n",
    "print(\"___________\")\n",
    "print(attakers_wins[0:5,:])\n",
    "    \n",
    "    \n",
    "    "
   ]
  }
 ],
 "metadata": {
  "kernelspec": {
   "display_name": "base",
   "language": "python",
   "name": "python3"
  },
  "language_info": {
   "codemirror_mode": {
    "name": "ipython",
    "version": 3
   },
   "file_extension": ".py",
   "mimetype": "text/x-python",
   "name": "python",
   "nbconvert_exporter": "python",
   "pygments_lexer": "ipython3",
   "version": "3.11.5"
  }
 },
 "nbformat": 4,
 "nbformat_minor": 2
}
